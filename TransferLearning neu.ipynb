{
 "cells": [
  {
   "cell_type": "code",
   "execution_count": 12,
   "metadata": {
    "collapsed": true,
    "ExecuteTime": {
     "end_time": "2023-11-14T14:19:22.773402Z",
     "start_time": "2023-11-14T14:19:18.894256Z"
    }
   },
   "outputs": [
    {
     "name": "stdout",
     "output_type": "stream",
     "text": [
      "Found 13677 images belonging to 8 classes.\n",
      "Found 3415 images belonging to 8 classes.\n"
     ]
    }
   ],
   "source": [
    "import tensorflow as tf\n",
    "from tensorflow.keras import layers, models\n",
    "from tensorflow.keras.applications import ResNet50\n",
    "from tensorflow.keras.preprocessing.image import ImageDataGenerator, img_to_array\n",
    "from PIL import Image\n",
    "\n",
    "# Definiere den Pfad zu deinem Datensatz\n",
    "data_path = 'images/archive/bloodcells_dataset'\n",
    "\n",
    "# Laden des ResNet50-Modells als Basis\n",
    "base_model = ResNet50(weights='imagenet', include_top=False, input_shape=(224, 224, 3))\n",
    "\n",
    "# Einfrieren der Gewichte des Basismodells\n",
    "for layer in base_model.layers:\n",
    "    layer.trainable = False\n",
    "\n",
    "# Erstellen des Transfer-Learning-Modells\n",
    "model = models.Sequential([\n",
    "    base_model,\n",
    "    layers.GlobalAveragePooling2D(),\n",
    "    layers.Dense(256, activation='relu'),\n",
    "    layers.Dropout(0.5),\n",
    "    layers.Dense(8, activation='softmax')  # Annahme: 8 Klassen für die Blutzellenarten\n",
    "])\n",
    "\n",
    "# Kompilieren des Modells\n",
    "model.compile(optimizer='adam', loss='categorical_crossentropy', metrics=['accuracy'])\n",
    "\n",
    "# Erstellen von Daten-Generatoren für das Training und die Validierung\n",
    "train_datagen = ImageDataGenerator(rescale=1./255, validation_split=0.2)\n",
    "\n",
    "# Trainingsdaten-Generator\n",
    "train_generator = train_datagen.flow_from_directory(\n",
    "    data_path,\n",
    "    target_size=(224, 224),\n",
    "    batch_size=32,\n",
    "    class_mode='categorical',\n",
    "    subset='training',\n",
    "    shuffle=True,\n",
    "    interpolation='bilinear',  # Optional: Du kannst die Interpolation für die Bildgrößenänderung festlegen\n",
    ")\n",
    "\n",
    "# Validierungsdaten-Generator\n",
    "validation_generator = train_datagen.flow_from_directory(\n",
    "    data_path,\n",
    "    target_size=(224, 224),\n",
    "    batch_size=32,\n",
    "    class_mode='categorical',\n",
    "    subset='validation',\n",
    "    shuffle=False,\n",
    "    interpolation='bilinear',\n",
    ")\n",
    "\n"
   ]
  },
  {
   "cell_type": "markdown",
   "source": [],
   "metadata": {
    "collapsed": false
   }
  },
  {
   "cell_type": "code",
   "execution_count": null,
   "outputs": [],
   "source": [
    "# Trainieren des Modells\n",
    "model.fit(train_generator, epochs=1, validation_data=validation_generator, verbose=2)"
   ],
   "metadata": {
    "collapsed": false,
    "is_executing": true,
    "ExecuteTime": {
     "start_time": "2023-11-14T14:19:26.247518Z"
    }
   }
  },
  {
   "cell_type": "code",
   "execution_count": null,
   "outputs": [],
   "source": [
    "# Beispiel zum Laden und Vorhersagen eines einzelnen Bildes\n",
    "example_image_path = 'Pfad/zum/Ihr/Bild.jpg'  # Passe den Pfad an\n",
    "example_image = Image.open(example_image_path)\n",
    "example_image = example_image.resize((224, 224), resample=Image.BILINEAR)  # Bildgröße anpassen\n",
    "example_image_array = img_to_array(example_image)\n",
    "example_image_array = example_image_array.reshape((1, 224, 224, 3))  # Batch-Dimension hinzufügen\n",
    "\n",
    "# Vorhersage für das Beispielbild\n",
    "prediction = model.predict(example_image_array)\n",
    "print(\"Vorhersage für das Beispielbild:\", prediction)"
   ],
   "metadata": {
    "collapsed": false
   }
  }
 ],
 "metadata": {
  "kernelspec": {
   "display_name": "Python 3",
   "language": "python",
   "name": "python3"
  },
  "language_info": {
   "codemirror_mode": {
    "name": "ipython",
    "version": 2
   },
   "file_extension": ".py",
   "mimetype": "text/x-python",
   "name": "python",
   "nbconvert_exporter": "python",
   "pygments_lexer": "ipython2",
   "version": "2.7.6"
  }
 },
 "nbformat": 4,
 "nbformat_minor": 0
}
