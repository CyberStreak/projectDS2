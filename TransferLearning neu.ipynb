{
 "cells": [
  {
   "cell_type": "code",
   "execution_count": 23,
   "metadata": {
    "collapsed": true,
    "ExecuteTime": {
     "end_time": "2023-11-09T15:11:58.650937Z",
     "start_time": "2023-11-09T15:11:58.643904Z"
    }
   },
   "outputs": [],
   "source": [
    "import tensorflow as tf\n",
    "from tensorflow.keras.applications import ResNet50\n",
    "from tensorflow.keras import models, layers\n",
    "from tensorflow.keras.optimizers import Adam\n",
    "from tensorflow.keras.preprocessing.image import ImageDataGenerator"
   ]
  },
  {
   "cell_type": "code",
   "execution_count": 24,
   "outputs": [],
   "source": [
    "import os\n",
    "import shutil\n",
    "from sklearn.model_selection import train_test_split\n",
    "\n",
    "# Ursprünglicher Pfad zum Dataset\n",
    "original_dataset_path = 'images/archive/bloodcells_dataset'\n",
    "\n",
    "# Zielverzeichnisse für Trainings- und Validierungsdaten erstellen\n",
    "train_dir = 'images/archive/bloodcells_dataset/train'\n",
    "valid_dir = 'images/archive/bloodcells_dataset/validation'\n",
    "\n",
    "# Erstelle die Verzeichnisse, falls sie nicht existieren\n",
    "os.makedirs(train_dir, exist_ok=True)\n",
    "os.makedirs(valid_dir, exist_ok=True)\n",
    "\n",
    "# Liste der Klassen\n",
    "classes = ['basophil', 'eosinophil', 'erythroblast', 'ig', 'lymphocyte', 'monocyte', 'neutrophil', 'platelet']\n",
    "\n",
    "# Schleife durch jede Klasse und teile die Bilder auf\n",
    "for cls in classes:\n",
    "    # Ursprünglicher Pfad zu den Bildern einer Klasse\n",
    "    class_path = os.path.join(original_dataset_path, cls)\n",
    "\n",
    "    # Zielverzeichnisse für Trainings- und Validierungsdaten dieser Klasse erstellen\n",
    "    train_class_dir = os.path.join(train_dir, cls)\n",
    "    valid_class_dir = os.path.join(valid_dir, cls)\n",
    "\n",
    "    os.makedirs(train_class_dir, exist_ok=True)\n",
    "    os.makedirs(valid_class_dir, exist_ok=True)\n",
    "\n",
    "    # Liste aller Bilder in der aktuellen Klasse\n",
    "    images = os.listdir(class_path)\n",
    "\n",
    "    # Aufteilung in Trainings- und Validierungssätze\n",
    "    train_images, valid_images = train_test_split(images, test_size=0.2, random_state=42)\n",
    "\n",
    "    # Kopiere Bilder in die entsprechenden Verzeichnisse\n",
    "    for img in train_images:\n",
    "        src_path = os.path.join(class_path, img)\n",
    "        dest_path = os.path.join(train_class_dir, img)\n",
    "        shutil.copy(src_path, dest_path)\n",
    "\n",
    "    for img in valid_images:\n",
    "        src_path = os.path.join(class_path, img)\n",
    "        dest_path = os.path.join(valid_class_dir, img)\n",
    "        shutil.copy(src_path, dest_path)\n",
    "\n",
    "# Nun kannst du den vorherigen Transfer Learning-Code verwenden\n",
    "# und dabei die aktualisierten Pfade für Trainings- und Validierungsdaten verwenden.\n"
   ],
   "metadata": {
    "collapsed": false,
    "ExecuteTime": {
     "end_time": "2023-11-09T15:12:15.106068Z",
     "start_time": "2023-11-09T15:11:59.611448Z"
    }
   }
  },
  {
   "cell_type": "code",
   "execution_count": 27,
   "outputs": [],
   "source": [
    "# Definiere die Pfade zu den Trainings- und Validierungsdaten\n",
    "train_dir = 'images/archive/bloodcells_dataset/train'\n",
    "valid_dir = 'images/archive/bloodcells_dataset/validation'"
   ],
   "metadata": {
    "collapsed": false,
    "ExecuteTime": {
     "end_time": "2023-11-09T15:12:24.357873Z",
     "start_time": "2023-11-09T15:12:24.317641Z"
    }
   }
  },
  {
   "cell_type": "code",
   "execution_count": 28,
   "outputs": [],
   "source": [
    "# Schritte 1 und 2: Modell auswählen und anpassen\n",
    "base_model = ResNet50(weights='imagenet', include_top=False, input_shape=(224, 224, 3))\n"
   ],
   "metadata": {
    "collapsed": false,
    "ExecuteTime": {
     "end_time": "2023-11-09T15:12:28.445839Z",
     "start_time": "2023-11-09T15:12:25.460524Z"
    }
   }
  },
  {
   "cell_type": "code",
   "execution_count": 29,
   "outputs": [],
   "source": [
    "model = models.Sequential()\n",
    "model.add(base_model)\n",
    "model.add(layers.GlobalAveragePooling2D())\n",
    "model.add(layers.Dense(8, activation='softmax'))"
   ],
   "metadata": {
    "collapsed": false,
    "ExecuteTime": {
     "end_time": "2023-11-09T15:12:30.534165Z",
     "start_time": "2023-11-09T15:12:29.046170Z"
    }
   }
  },
  {
   "cell_type": "code",
   "execution_count": 30,
   "outputs": [],
   "source": [
    "import tensorflow as tf\n",
    "from tensorflow.keras.preprocessing.image import ImageDataGenerator\n",
    "\n",
    "AUTOTUNE = tf.data.AUTOTUNE\n",
    "\n",
    "# Definiere die Verzeichnisse für Trainings- und Validierungsdaten\n",
    "train_dir = 'images/archive/bloodcells_dataset/train'\n",
    "valid_dir = 'images/archive/bloodcells_dataset/validation'\n",
    "\n",
    "# Erstelle die ImageDataGenerator für Trainings- und Validierungsdaten\n",
    "train_datagen = ImageDataGenerator(\n",
    "    rescale=1./255,\n",
    "    shear_range=0.2,\n",
    "    zoom_range=0.2,\n",
    "    horizontal_flip=True\n",
    ")\n",
    "\n",
    "valid_datagen = ImageDataGenerator(rescale=1./255)\n",
    "\n",
    "img_size = (224, 224)\n",
    "\n",
    "# Erstelle die tf.data.Dataset-Objekte für Trainings- und Validierungsdaten\n",
    "train_dataset = tf.data.Dataset.from_generator(\n",
    "    lambda: train_datagen.flow_from_directory(train_dir, target_size=img_size, batch_size=32, class_mode='categorical'),\n",
    "    output_signature=(tf.TensorSpec(shape=(None, 224, 224, 3), dtype=tf.float32), tf.TensorSpec(shape=(None, 8), dtype=tf.float32))\n",
    ")\n",
    "\n",
    "valid_dataset = tf.data.Dataset.from_generator(\n",
    "    lambda: valid_datagen.flow_from_directory(valid_dir, target_size=img_size, batch_size=32, class_mode='categorical'),\n",
    "    output_signature=(tf.TensorSpec(shape=(None, 224, 224, 3), dtype=tf.float32), tf.TensorSpec(shape=(None, 8), dtype=tf.float32))\n",
    ")\n",
    "\n",
    "# Wende cache und prefetch auf die tf.data.Dataset-Objekte an\n",
    "train_dataset = train_dataset.cache().prefetch(buffer_size=AUTOTUNE)\n",
    "valid_dataset = valid_dataset.cache().prefetch(buffer_size=AUTOTUNE)\n",
    "\n",
    "# ... (Definiere und kompiliere dein Modell)\n",
    "\n",
    "# Beispiel: Ein einfaches sequentielles Modell\n",
    "model = tf.keras.Sequential([\n",
    "    tf.keras.layers.Conv2D(32, (3, 3), activation='relu', input_shape=(224, 224, 3)),\n",
    "    tf.keras.layers.MaxPooling2D((2, 2)),\n",
    "    tf.keras.layers.Flatten(),\n",
    "    tf.keras.layers.Dense(8, activation='softmax')\n",
    "])\n"
   ],
   "metadata": {
    "collapsed": false,
    "ExecuteTime": {
     "end_time": "2023-11-09T15:12:32.877863Z",
     "start_time": "2023-11-09T15:12:32.688445Z"
    }
   }
  },
  {
   "cell_type": "code",
   "execution_count": 31,
   "outputs": [],
   "source": [
    "# Schritt 4: Modell kompilieren\n",
    "model.compile(optimizer=\"rmsprop\", loss='categorical_crossentropy', metrics=['accuracy'])\n"
   ],
   "metadata": {
    "collapsed": false,
    "ExecuteTime": {
     "end_time": "2023-11-09T15:12:35.411479Z",
     "start_time": "2023-11-09T15:12:35.383479Z"
    }
   }
  },
  {
   "cell_type": "code",
   "execution_count": null,
   "outputs": [
    {
     "name": "stdout",
     "output_type": "stream",
     "text": [
      " 89/428 [=====>........................] - ETA: 6:27 - loss: 6.9271 - accuracy: 0.3757"
     ]
    }
   ],
   "source": [
    "# Schritt 5: Modell trainieren\n",
    "model.fit(train_generator, epochs=1, validation_data=valid_generator)"
   ],
   "metadata": {
    "collapsed": false,
    "is_executing": true,
    "ExecuteTime": {
     "start_time": "2023-11-09T15:12:36.527393Z"
    }
   }
  },
  {
   "cell_type": "code",
   "execution_count": null,
   "outputs": [],
   "source": [],
   "metadata": {
    "collapsed": false
   }
  }
 ],
 "metadata": {
  "kernelspec": {
   "display_name": "Python 3",
   "language": "python",
   "name": "python3"
  },
  "language_info": {
   "codemirror_mode": {
    "name": "ipython",
    "version": 2
   },
   "file_extension": ".py",
   "mimetype": "text/x-python",
   "name": "python",
   "nbconvert_exporter": "python",
   "pygments_lexer": "ipython2",
   "version": "2.7.6"
  }
 },
 "nbformat": 4,
 "nbformat_minor": 0
}
