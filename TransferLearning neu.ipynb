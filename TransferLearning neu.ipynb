{
 "cells": [
  {
   "cell_type": "code",
   "execution_count": 15,
   "metadata": {
    "collapsed": true,
    "ExecuteTime": {
     "end_time": "2023-11-09T15:00:09.447440Z",
     "start_time": "2023-11-09T15:00:09.427013Z"
    }
   },
   "outputs": [],
   "source": [
    "import tensorflow as tf\n",
    "from tensorflow.keras.applications import ResNet50\n",
    "from tensorflow.keras import models, layers\n",
    "from tensorflow.keras.optimizers import Adam\n",
    "from tensorflow.keras.preprocessing.image import ImageDataGenerator"
   ]
  },
  {
   "cell_type": "code",
   "execution_count": 16,
   "outputs": [],
   "source": [
    "import os\n",
    "import shutil\n",
    "from sklearn.model_selection import train_test_split\n",
    "\n",
    "# Ursprünglicher Pfad zum Dataset\n",
    "original_dataset_path = 'images/archive/bloodcells_dataset'\n",
    "\n",
    "# Zielverzeichnisse für Trainings- und Validierungsdaten erstellen\n",
    "train_dir = 'images/archive/bloodcells_dataset/train'\n",
    "valid_dir = 'images/archive/bloodcells_dataset/validation'\n",
    "\n",
    "# Erstelle die Verzeichnisse, falls sie nicht existieren\n",
    "os.makedirs(train_dir, exist_ok=True)\n",
    "os.makedirs(valid_dir, exist_ok=True)\n",
    "\n",
    "# Liste der Klassen\n",
    "classes = ['basophil', 'eosinophil', 'erythroblast', 'ig', 'lymphocyte', 'monocyte', 'neutrophil', 'platelet']\n",
    "\n",
    "# Schleife durch jede Klasse und teile die Bilder auf\n",
    "for cls in classes:\n",
    "    # Ursprünglicher Pfad zu den Bildern einer Klasse\n",
    "    class_path = os.path.join(original_dataset_path, cls)\n",
    "\n",
    "    # Zielverzeichnisse für Trainings- und Validierungsdaten dieser Klasse erstellen\n",
    "    train_class_dir = os.path.join(train_dir, cls)\n",
    "    valid_class_dir = os.path.join(valid_dir, cls)\n",
    "\n",
    "    os.makedirs(train_class_dir, exist_ok=True)\n",
    "    os.makedirs(valid_class_dir, exist_ok=True)\n",
    "\n",
    "    # Liste aller Bilder in der aktuellen Klasse\n",
    "    images = os.listdir(class_path)\n",
    "\n",
    "    # Aufteilung in Trainings- und Validierungssätze\n",
    "    train_images, valid_images = train_test_split(images, test_size=0.2, random_state=42)\n",
    "\n",
    "    # Kopiere Bilder in die entsprechenden Verzeichnisse\n",
    "    for img in train_images:\n",
    "        src_path = os.path.join(class_path, img)\n",
    "        dest_path = os.path.join(train_class_dir, img)\n",
    "        shutil.copy(src_path, dest_path)\n",
    "\n",
    "    for img in valid_images:\n",
    "        src_path = os.path.join(class_path, img)\n",
    "        dest_path = os.path.join(valid_class_dir, img)\n",
    "        shutil.copy(src_path, dest_path)\n",
    "\n",
    "# Nun kannst du den vorherigen Transfer Learning-Code verwenden\n",
    "# und dabei die aktualisierten Pfade für Trainings- und Validierungsdaten verwenden.\n"
   ],
   "metadata": {
    "collapsed": false,
    "ExecuteTime": {
     "end_time": "2023-11-09T15:00:40.067640Z",
     "start_time": "2023-11-09T15:00:21.666609Z"
    }
   }
  },
  {
   "cell_type": "code",
   "execution_count": 17,
   "outputs": [],
   "source": [
    "# Definiere die Pfade zu den Trainings- und Validierungsdaten\n",
    "train_dir = 'images/archive/bloodcells_dataset/train'\n",
    "valid_dir = 'images/archive/bloodcells_dataset/validation'"
   ],
   "metadata": {
    "collapsed": false,
    "ExecuteTime": {
     "end_time": "2023-11-09T15:01:05.944918Z",
     "start_time": "2023-11-09T15:01:05.934867Z"
    }
   }
  },
  {
   "cell_type": "code",
   "execution_count": 18,
   "outputs": [],
   "source": [
    "# Schritte 1 und 2: Modell auswählen und anpassen\n",
    "base_model = ResNet50(weights='imagenet', include_top=False, input_shape=(224, 224, 3))\n"
   ],
   "metadata": {
    "collapsed": false,
    "ExecuteTime": {
     "end_time": "2023-11-09T15:01:11.312440Z",
     "start_time": "2023-11-09T15:01:07.361271Z"
    }
   }
  },
  {
   "cell_type": "code",
   "execution_count": 19,
   "outputs": [],
   "source": [
    "model = models.Sequential()\n",
    "model.add(base_model)\n",
    "model.add(layers.GlobalAveragePooling2D())\n",
    "model.add(layers.Dense(8, activation='softmax'))"
   ],
   "metadata": {
    "collapsed": false,
    "ExecuteTime": {
     "end_time": "2023-11-09T15:01:16.261461Z",
     "start_time": "2023-11-09T15:01:15.053623Z"
    }
   }
  },
  {
   "cell_type": "code",
   "execution_count": 20,
   "outputs": [
    {
     "name": "stdout",
     "output_type": "stream",
     "text": [
      "Found 13671 images belonging to 8 classes.\n",
      "Found 3421 images belonging to 8 classes.\n"
     ]
    }
   ],
   "source": [
    "import tensorflow as tf\n",
    "\n",
    "AUTOTUNE = tf.data.AUTOTUNE\n",
    "\n",
    "# Erstelle die ImageDataGenerator und tf.data.Dataset für Trainings- und Validierungsdaten\n",
    "train_datagen = ImageDataGenerator(\n",
    "    rescale=1./255,\n",
    "    shear_range=0.2,\n",
    "    zoom_range=0.2,\n",
    "    horizontal_flip=True\n",
    ")\n",
    "\n",
    "valid_datagen = ImageDataGenerator(rescale=1./255)\n",
    "\n",
    "img_size = (224, 224)\n",
    "\n",
    "train_generator = train_datagen.flow_from_directory(\n",
    "    train_dir,\n",
    "    target_size=img_size,\n",
    "    batch_size=32,\n",
    "    class_mode='categorical'\n",
    ")\n",
    "\n",
    "valid_generator = valid_datagen.flow_from_directory(\n",
    "    valid_dir,\n",
    "    target_size=img_size,\n",
    "    batch_size=32,\n",
    "    class_mode='categorical'\n",
    ")\n",
    "\n",
    "# Wende cache und prefetch auf die tf.data.Dataset-Objekte an\n",
    "train_dataset = tf.data.Dataset.from_generator(lambda: train_generator, output_signature=(tf.TensorSpec(shape=(None, 224, 224, 3), dtype=tf.float32), tf.TensorSpec(shape=(None, 8), dtype=tf.float32)))\n",
    "valid_dataset = tf.data.Dataset.from_generator(lambda: valid_generator, output_signature=(tf.TensorSpec(shape=(None, 224, 224, 3), dtype=tf.float32), tf.TensorSpec(shape=(None, 8), dtype=tf.float32)))\n",
    "\n",
    "# Cache und prefetch\n",
    "train_dataset = train_dataset.cache().prefetch(buffer_size=AUTOTUNE)\n",
    "valid_dataset = valid_dataset.cache().prefetch(buffer_size=AUTOTUNE)\n"
   ],
   "metadata": {
    "collapsed": false,
    "ExecuteTime": {
     "end_time": "2023-11-09T15:01:19.021679Z",
     "start_time": "2023-11-09T15:01:17.050472Z"
    }
   }
  },
  {
   "cell_type": "code",
   "execution_count": 21,
   "outputs": [],
   "source": [
    "# Schritt 4: Modell kompilieren\n",
    "model.compile(optimizer=\"rmsprop\", loss='categorical_crossentropy', metrics=['accuracy'])\n"
   ],
   "metadata": {
    "collapsed": false,
    "ExecuteTime": {
     "end_time": "2023-11-09T15:01:21.117642Z",
     "start_time": "2023-11-09T15:01:21.092888Z"
    }
   }
  },
  {
   "cell_type": "code",
   "execution_count": null,
   "outputs": [
    {
     "name": "stdout",
     "output_type": "stream",
     "text": [
      "  9/428 [..............................] - ETA: 2:14:48 - loss: 2.8977 - accuracy: 0.3160"
     ]
    }
   ],
   "source": [
    "# Schritt 5: Modell trainieren\n",
    "model.fit(train_generator, epochs=1, validation_data=valid_generator)"
   ],
   "metadata": {
    "collapsed": false,
    "is_executing": true,
    "ExecuteTime": {
     "start_time": "2023-11-09T15:01:22.122888Z"
    }
   }
  },
  {
   "cell_type": "code",
   "execution_count": null,
   "outputs": [],
   "source": [],
   "metadata": {
    "collapsed": false
   }
  }
 ],
 "metadata": {
  "kernelspec": {
   "display_name": "Python 3",
   "language": "python",
   "name": "python3"
  },
  "language_info": {
   "codemirror_mode": {
    "name": "ipython",
    "version": 2
   },
   "file_extension": ".py",
   "mimetype": "text/x-python",
   "name": "python",
   "nbconvert_exporter": "python",
   "pygments_lexer": "ipython2",
   "version": "2.7.6"
  }
 },
 "nbformat": 4,
 "nbformat_minor": 0
}
