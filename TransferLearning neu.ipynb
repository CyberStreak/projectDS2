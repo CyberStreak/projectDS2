{
 "cells": [
  {
   "cell_type": "code",
   "execution_count": 6,
   "metadata": {
    "collapsed": true,
    "ExecuteTime": {
     "end_time": "2023-11-09T09:50:57.080320Z",
     "start_time": "2023-11-09T09:50:57.073563Z"
    }
   },
   "outputs": [],
   "source": [
    "from tensorflow.keras.applications import ResNet50\n",
    "from tensorflow.keras import models, layers\n",
    "from tensorflow.keras.optimizers import Adam\n",
    "from tensorflow.keras.preprocessing.image import ImageDataGenerator"
   ]
  },
  {
   "cell_type": "code",
   "execution_count": 7,
   "outputs": [],
   "source": [
    "import os\n",
    "import shutil\n",
    "from sklearn.model_selection import train_test_split\n",
    "\n",
    "# Ursprünglicher Pfad zum Dataset\n",
    "original_dataset_path = 'images/archive/bloodcells_dataset'\n",
    "\n",
    "# Zielverzeichnisse für Trainings- und Validierungsdaten erstellen\n",
    "train_dir = 'images/archive/bloodcells_dataset/train'\n",
    "valid_dir = 'images/archive/bloodcells_dataset/validation'\n",
    "\n",
    "# Erstelle die Verzeichnisse, falls sie nicht existieren\n",
    "os.makedirs(train_dir, exist_ok=True)\n",
    "os.makedirs(valid_dir, exist_ok=True)\n",
    "\n",
    "# Liste der Klassen\n",
    "classes = ['basophil', 'eosinophil', 'erythroblast', 'ig', 'lymphocyte', 'monocyte', 'neutrophil', 'platelet']\n",
    "\n",
    "# Schleife durch jede Klasse und teile die Bilder auf\n",
    "for cls in classes:\n",
    "    # Ursprünglicher Pfad zu den Bildern einer Klasse\n",
    "    class_path = os.path.join(original_dataset_path, cls)\n",
    "\n",
    "    # Zielverzeichnisse für Trainings- und Validierungsdaten dieser Klasse erstellen\n",
    "    train_class_dir = os.path.join(train_dir, cls)\n",
    "    valid_class_dir = os.path.join(valid_dir, cls)\n",
    "\n",
    "    os.makedirs(train_class_dir, exist_ok=True)\n",
    "    os.makedirs(valid_class_dir, exist_ok=True)\n",
    "\n",
    "    # Liste aller Bilder in der aktuellen Klasse\n",
    "    images = os.listdir(class_path)\n",
    "\n",
    "    # Aufteilung in Trainings- und Validierungssätze\n",
    "    train_images, valid_images = train_test_split(images, test_size=0.2, random_state=42)\n",
    "\n",
    "    # Kopiere Bilder in die entsprechenden Verzeichnisse\n",
    "    for img in train_images:\n",
    "        src_path = os.path.join(class_path, img)\n",
    "        dest_path = os.path.join(train_class_dir, img)\n",
    "        shutil.copy(src_path, dest_path)\n",
    "\n",
    "    for img in valid_images:\n",
    "        src_path = os.path.join(class_path, img)\n",
    "        dest_path = os.path.join(valid_class_dir, img)\n",
    "        shutil.copy(src_path, dest_path)\n",
    "\n",
    "# Nun kannst du den vorherigen Transfer Learning-Code verwenden\n",
    "# und dabei die aktualisierten Pfade für Trainings- und Validierungsdaten verwenden.\n"
   ],
   "metadata": {
    "collapsed": false,
    "ExecuteTime": {
     "end_time": "2023-11-09T09:51:19.954584Z",
     "start_time": "2023-11-09T09:51:01.679697Z"
    }
   }
  },
  {
   "cell_type": "code",
   "execution_count": 8,
   "outputs": [],
   "source": [
    "# Definiere die Pfade zu den Trainings- und Validierungsdaten\n",
    "train_dir = 'images/archive/bloodcells_dataset/train'\n",
    "valid_dir = 'images/archive/bloodcells_dataset/validation'"
   ],
   "metadata": {
    "collapsed": false,
    "ExecuteTime": {
     "end_time": "2023-11-09T09:51:47.576578Z",
     "start_time": "2023-11-09T09:51:47.523053Z"
    }
   }
  },
  {
   "cell_type": "code",
   "execution_count": 9,
   "outputs": [],
   "source": [
    "# Schritte 1 und 2: Modell auswählen und anpassen\n",
    "base_model = ResNet50(weights='imagenet', include_top=False, input_shape=(224, 224, 3))\n"
   ],
   "metadata": {
    "collapsed": false,
    "ExecuteTime": {
     "end_time": "2023-11-09T09:51:58.338012Z",
     "start_time": "2023-11-09T09:51:55.084819Z"
    }
   }
  },
  {
   "cell_type": "code",
   "execution_count": 10,
   "outputs": [],
   "source": [
    "model = models.Sequential()\n",
    "model.add(base_model)\n",
    "model.add(layers.GlobalAveragePooling2D())\n",
    "model.add(layers.Dense(8, activation='softmax'))"
   ],
   "metadata": {
    "collapsed": false,
    "ExecuteTime": {
     "end_time": "2023-11-09T09:52:01.297679Z",
     "start_time": "2023-11-09T09:51:59.882016Z"
    }
   }
  },
  {
   "cell_type": "code",
   "execution_count": 11,
   "outputs": [
    {
     "name": "stdout",
     "output_type": "stream",
     "text": [
      "Found 13671 images belonging to 8 classes.\n",
      "Found 3421 images belonging to 8 classes.\n"
     ]
    }
   ],
   "source": [
    "# Schritt 3: Daten vorbereiten und Generatoren erstellen\n",
    "train_datagen = ImageDataGenerator(\n",
    "    rescale=1./255,\n",
    "    shear_range=0.2,\n",
    "    zoom_range=0.2,\n",
    "    horizontal_flip=True\n",
    ")\n",
    "\n",
    "valid_datagen = ImageDataGenerator(rescale=1./255)\n",
    "\n",
    "img_size = (224, 224)\n",
    "\n",
    "train_generator = train_datagen.flow_from_directory(\n",
    "    train_dir,\n",
    "    target_size=img_size,\n",
    "    batch_size=32,\n",
    "    class_mode='categorical'\n",
    ")\n",
    "\n",
    "valid_generator = valid_datagen.flow_from_directory(\n",
    "    valid_dir,\n",
    "    target_size=img_size,\n",
    "    batch_size=32,\n",
    "    class_mode='categorical'\n",
    ")"
   ],
   "metadata": {
    "collapsed": false,
    "ExecuteTime": {
     "end_time": "2023-11-09T09:52:04.674583Z",
     "start_time": "2023-11-09T09:52:02.786927Z"
    }
   }
  },
  {
   "cell_type": "code",
   "execution_count": 12,
   "outputs": [
    {
     "name": "stderr",
     "output_type": "stream",
     "text": [
      "/Users/retosutter/opt/anaconda3/envs/DS2/lib/python3.8/site-packages/keras/optimizers/optimizer_v2/adam.py:114: UserWarning: The `lr` argument is deprecated, use `learning_rate` instead.\n",
      "  super().__init__(name, **kwargs)\n"
     ]
    }
   ],
   "source": [
    "# Schritt 4: Modell kompilieren\n",
    "model.compile(optimizer=Adam(lr=0.001), loss='categorical_crossentropy', metrics=['accuracy'])\n"
   ],
   "metadata": {
    "collapsed": false,
    "ExecuteTime": {
     "end_time": "2023-11-09T09:52:09.594765Z",
     "start_time": "2023-11-09T09:52:09.515708Z"
    }
   }
  },
  {
   "cell_type": "code",
   "execution_count": null,
   "outputs": [
    {
     "name": "stdout",
     "output_type": "stream",
     "text": [
      "Epoch 1/10\n",
      "  4/428 [..............................] - ETA: 2:33:51 - loss: 1.4599 - accuracy: 0.5391"
     ]
    }
   ],
   "source": [
    "# Schritt 5: Modell trainieren\n",
    "model.fit(train_generator, epochs=10, validation_data=valid_generator)"
   ],
   "metadata": {
    "collapsed": false,
    "is_executing": true,
    "ExecuteTime": {
     "start_time": "2023-11-09T09:52:20.759373Z"
    }
   }
  },
  {
   "cell_type": "code",
   "execution_count": null,
   "outputs": [],
   "source": [],
   "metadata": {
    "collapsed": false
   }
  }
 ],
 "metadata": {
  "kernelspec": {
   "display_name": "Python 3",
   "language": "python",
   "name": "python3"
  },
  "language_info": {
   "codemirror_mode": {
    "name": "ipython",
    "version": 2
   },
   "file_extension": ".py",
   "mimetype": "text/x-python",
   "name": "python",
   "nbconvert_exporter": "python",
   "pygments_lexer": "ipython2",
   "version": "2.7.6"
  }
 },
 "nbformat": 4,
 "nbformat_minor": 0
}
