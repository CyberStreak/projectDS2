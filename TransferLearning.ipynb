{
 "cells": [
  {
   "cell_type": "code",
   "execution_count": null,
   "metadata": {
    "collapsed": true
   },
   "outputs": [],
   "source": [
    "# Import libraries\n",
    "import tensorflow as tf\n",
    "from tensorflow import keras\n",
    "from keras import layers\n",
    "from tensorflow.keras.applications.resnet50 import preprocess_input, ResNet50\n",
    "import os\n",
    "import pandas as pd\n",
    "import numpy as np\n",
    "import zipfile\n",
    "import matplotlib.pyplot as plt\n",
    "import seaborn as sns\n",
    "from sklearn.metrics import ConfusionMatrixDisplay, classification_report"
   ]
  },
  {
   "cell_type": "code",
   "execution_count": null,
   "outputs": [],
   "source": [
    "# Import and prepare the first split of datasets\n",
    "path = os.path.join(\"images/archive/bloodcells_dataset\")\n",
    "\n",
    "BATCH_SIZE = 32\n",
    "IMG_HEIGHT = 224\n",
    "IMG_WIDTH = 224\n",
    "dataset, test_dataset = keras.utils.image_dataset_from_directory(directory=path, image_size=(IMG_WIDTH, IMG_HEIGHT), batch_size=BATCH_SIZE, label_mode=\"int\", validation_split=0.2, subset=\"both\", shuffle=True, seed=42)\n",
    "\n",
    "# Get class names\n",
    "class_names = dataset.class_names\n",
    "print(class_names)"
   ],
   "metadata": {
    "collapsed": false
   }
  },
  {
   "cell_type": "code",
   "execution_count": null,
   "outputs": [],
   "source": [
    "# Plot 16 images from the dataset as examples\n",
    "fig, ax = plt.subplots(4, 4, figsize=(12,12))\n",
    "ax = ax.flat\n",
    "for images, labels in dataset.take(1):\n",
    "  for i in range(16):\n",
    "    ax[i].set_title(class_names[labels[i].numpy()])\n",
    "    ax[i].set_xticks([])\n",
    "    ax[i].set_yticks([])\n",
    "    ax[i].imshow(images[i].numpy().astype(\"uint8\"))"
   ],
   "metadata": {
    "collapsed": false
   }
  },
  {
   "cell_type": "markdown",
   "source": [
    "# Check if classes are balanced\n",
    "labels = np.concatenate([label for image, label in dataset], axis=0)\n",
    "unique, counts = np.unique(labels, return_counts=True)\n",
    "plt.pie(x=counts, labels=class_names, autopct='%.1f%%', textprops={'size': 'smaller'},\n",
    "        colors=sns.color_palette('pastel')[0:8])\n",
    "plt.title(\"Class distribution\")\n",
    "plt.show()"
   ],
   "metadata": {
    "collapsed": false
   }
  },
  {
   "cell_type": "code",
   "execution_count": null,
   "outputs": [],
   "source": [
    "# Split dataset in train and validation set\n",
    "num_elements = len(dataset)\n",
    "train_size = int(0.8 * num_elements)\n",
    "val_dataset = dataset.skip(train_size).prefetch(tf.data.AUTOTUNE)\n",
    "train_dataset = dataset.take(train_size).prefetch(tf.data.AUTOTUNE)\n",
    "\n",
    "# Check length\n",
    "len(train_dataset), len(val_dataset), len(test_dataset)\n",
    "\n",
    "\n"
   ],
   "metadata": {
    "collapsed": false
   }
  },
  {
   "cell_type": "code",
   "execution_count": null,
   "outputs": [],
   "source": [
    "# Check format\n",
    "for image_batch, labels_batch in train_dataset.take(1):\n",
    "  print(f\"Train data: {image_batch.shape}\")\n",
    "  print(f\"Train labels: {labels_batch.shape}\")\n",
    "\n",
    "for image_batch, labels_batch in val_dataset.take(1):\n",
    "  print(f\"Validation data: {image_batch.shape}\")\n",
    "  print(f\"Validation labels: {labels_batch.shape}\")\n",
    "\n",
    "for image_batch, labels_batch in test_dataset.take(1):\n",
    "  print(f\"Test data: {image_batch.shape}\")\n",
    "  print(f\"Test labels: {labels_batch.shape}\")"
   ],
   "metadata": {
    "collapsed": false
   }
  },
  {
   "cell_type": "code",
   "execution_count": null,
   "outputs": [],
   "source": [
    "# Check pixel intesities\n",
    "for image, label in train_dataset.take(1):\n",
    "  print(tf.reduce_max(image))\n",
    "  print(tf.reduce_min(image))"
   ],
   "metadata": {
    "collapsed": false
   }
  },
  {
   "cell_type": "code",
   "execution_count": null,
   "outputs": [],
   "source": [
    "# Create a lab-book to track the different experiments\n",
    "lab_book = {}\n",
    "\n",
    "# Create early stopping callback\n",
    "early_cb = keras.callbacks.EarlyStopping(patience=5, restore_best_weights=True,\n",
    "                                         monitor=\"val_accuracy\", min_delta=0.005)"
   ],
   "metadata": {
    "collapsed": false
   }
  },
  {
   "cell_type": "code",
   "execution_count": null,
   "outputs": [],
   "source": [],
   "metadata": {
    "collapsed": false
   }
  },
  {
   "cell_type": "code",
   "execution_count": null,
   "outputs": [],
   "source": [
    "# Set up data augmentation layers\n",
    "data_augmentation = keras.Sequential([\n",
    "    keras.layers.RandomFlip(\"horizontal_and_vertical\"),\n",
    "    keras.layers.RandomRotation(0.4)\n",
    "    ])"
   ],
   "metadata": {
    "collapsed": false
   }
  },
  {
   "cell_type": "code",
   "execution_count": null,
   "outputs": [],
   "source": [
    "# Prepare data for ResNet50 input\n",
    "train_dataset_resnet = train_dataset.map(lambda X, y: (preprocess_input(X), y)).prefetch(tf.data.AUTOTUNE)\n",
    "val_dataset_resnet = val_dataset.map(lambda X, y: (preprocess_input(X), y)).prefetch(tf.data.AUTOTUNE)\n",
    "test_dataset_resnet = test_dataset.map(lambda X, y: (preprocess_input(X), y)).prefetch(tf.data.AUTOTUNE)\n",
    "\n",
    "# Check format\n",
    "for image_batch, labels_batch in train_dataset_resnet.take(1):\n",
    "  print(f\"Train data: {image_batch.shape}\")\n",
    "  print(f\"Train labels: {labels_batch.shape}\")\n",
    "\n",
    "for image_batch, labels_batch in val_dataset_resnet.take(1):\n",
    "  print(f\"Validation data: {image_batch.shape}\")\n",
    "  print(f\"Validation labels: {labels_batch.shape}\")\n",
    "\n",
    "for image_batch, labels_batch in test_dataset_resnet.take(1):\n",
    "  print(f\"Test data: {image_batch.shape}\")\n",
    "  print(f\"Test labels: {labels_batch.shape}\")"
   ],
   "metadata": {
    "collapsed": false
   }
  },
  {
   "cell_type": "code",
   "execution_count": null,
   "outputs": [],
   "source": [
    "# Check pixel intesities\n",
    "for image, label in train_dataset_resnet.take(1):\n",
    "  print(tf.reduce_max(image))\n",
    "  print(tf.reduce_min(image))"
   ],
   "metadata": {
    "collapsed": false
   }
  },
  {
   "cell_type": "code",
   "execution_count": null,
   "outputs": [],
   "source": [
    "# Name the model\n",
    "name = \"Model_5\"\n",
    "\n",
    "# Download the pretrained resnet model and save it as a layer\n",
    "feature_extraction_layer = ResNet50(include_top=False,\n",
    "                                    input_shape=(IMG_HEIGHT, IMG_WIDTH, 3))\n",
    "\n",
    "# Freeze all layers of base model\n",
    "feature_extraction_layer.trainable = False\n",
    "\n",
    "# Build model\n",
    "tf.random.set_seed(42)\n",
    "model_5 = keras.Sequential([data_augmentation,\n",
    "                            feature_extraction_layer,\n",
    "                            layers.GlobalAvgPool2D(),\n",
    "                            layers.Dense(8, activation=\"softmax\")\n",
    "                            ], name=name)\n",
    "\n",
    "# Compile model\n",
    "model_5.compile(loss=keras.losses.SparseCategoricalCrossentropy(),\n",
    "                optimizer=keras.optimizers.Adam(),\n",
    "                metrics=[\"accuracy\"])\n",
    "\n",
    "# Fit model\n",
    "history_5 = model_5.fit(train_dataset_resnet,\n",
    "                        validation_data=val_dataset_resnet,\n",
    "                        epochs=1,\n",
    "                        callbacks=[early_cb])\n",
    "\n",
    "# Write lab-book\n",
    "train_accuracy = model_5.evaluate(train_dataset_resnet)[1]\n",
    "val_accuracy = model_5.evaluate(val_dataset_resnet)[1]\n",
    "lab_book[name] = {\"train_accuracy\": train_accuracy, \"val_accuracy\": val_accuracy}"
   ],
   "metadata": {
    "collapsed": false
   }
  },
  {
   "cell_type": "code",
   "execution_count": null,
   "outputs": [],
   "source": [
    "# Check test set accuracy of model 5 since base model will be changed afterwards\n",
    "test_scores = {}\n",
    "test_accuracy = model_5.evaluate(test_dataset_resnet)[1]\n",
    "test_scores[\"Model_5\"] = test_accuracy"
   ],
   "metadata": {
    "collapsed": false
   }
  },
  {
   "cell_type": "code",
   "execution_count": null,
   "outputs": [],
   "source": [],
   "metadata": {
    "collapsed": false
   }
  },
  {
   "cell_type": "code",
   "execution_count": null,
   "outputs": [],
   "source": [
    "# Name the model\n",
    "name = \"Model_6\"\n",
    "\n",
    "# Unfreeze all layers of base model\n",
    "feature_extraction_layer.trainable = True\n",
    "\n",
    "# Build model\n",
    "tf.random.set_seed(42)\n",
    "model_6 = keras.Sequential([data_augmentation,\n",
    "                            feature_extraction_layer,\n",
    "                            layers.GlobalAvgPool2D(),\n",
    "                            layers.Dense(8, activation=\"softmax\")\n",
    "                            ], name=name)\n",
    "\n",
    "\n",
    "# Compile model\n",
    "model_6.compile(loss=keras.losses.SparseCategoricalCrossentropy(),\n",
    "                optimizer=keras.optimizers.Adam(learning_rate = 0.0001),\n",
    "                metrics=[\"accuracy\"])\n",
    "\n",
    "# Fit model\n",
    "history_6 = model_6.fit(train_dataset_resnet,\n",
    "                        validation_data=val_dataset_resnet,\n",
    "                        epochs=1,\n",
    "                        callbacks=[early_cb])\n",
    "\n",
    "# Write lab-book\n",
    "train_accuracy = model_6.evaluate(train_dataset_resnet)[1]\n",
    "val_accuracy = model_6.evaluate(val_dataset_resnet)[1]\n",
    "lab_book[name] = {\"train_accuracy\": train_accuracy, \"val_accuracy\": val_accuracy}"
   ],
   "metadata": {
    "collapsed": false
   }
  }
 ],
 "metadata": {
  "kernelspec": {
   "display_name": "Python 3",
   "language": "python",
   "name": "python3"
  },
  "language_info": {
   "codemirror_mode": {
    "name": "ipython",
    "version": 2
   },
   "file_extension": ".py",
   "mimetype": "text/x-python",
   "name": "python",
   "nbconvert_exporter": "python",
   "pygments_lexer": "ipython2",
   "version": "2.7.6"
  }
 },
 "nbformat": 4,
 "nbformat_minor": 0
}
