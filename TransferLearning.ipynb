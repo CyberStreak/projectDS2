{
 "cells": [
  {
   "cell_type": "code",
   "execution_count": null,
   "metadata": {
    "collapsed": true,
    "is_executing": true,
    "ExecuteTime": {
     "start_time": "2023-11-13T14:18:48.680210Z"
    }
   },
   "outputs": [
    {
     "name": "stdout",
     "output_type": "stream",
     "text": [
      "Found 13671 images belonging to 8 classes.\n",
      "Found 3421 images belonging to 8 classes.\n",
      " 14/428 [..............................] - ETA: 28:09 - loss: 2.3204 - accuracy: 0.1540"
     ]
    }
   ],
   "source": [
    "import tensorflow as tf\n",
    "from tensorflow.keras.preprocessing.image import ImageDataGenerator\n",
    "from tensorflow.keras.applications import ResNet50\n",
    "from tensorflow.keras import layers, models\n",
    "\n",
    "# Verzeichnisse für Trainings- und Validierungsdaten\n",
    "train_dir = 'images/archive/bloodcells_dataset/train'\n",
    "valid_dir = 'images/archive/bloodcells_dataset/validation'\n",
    "\n",
    "# ImageDataGenerator für Datenaugmentation und Normalisierung\n",
    "train_datagen = ImageDataGenerator(\n",
    "    rescale=1./255,\n",
    "    shear_range=0.2,\n",
    "    zoom_range=0.2,\n",
    "    horizontal_flip=True\n",
    ")\n",
    "\n",
    "valid_datagen = ImageDataGenerator(rescale=1./255)\n",
    "\n",
    "# Größe der Bilder\n",
    "img_size = (224, 224)\n",
    "\n",
    "# Batch-Größe\n",
    "batch_size = 32\n",
    "\n",
    "# Trainingsdaten-Generator\n",
    "train_generator = train_datagen.flow_from_directory(\n",
    "    train_dir,\n",
    "    target_size=img_size,\n",
    "    batch_size=batch_size,\n",
    "    class_mode='categorical'\n",
    ")\n",
    "\n",
    "# Validierungsdaten-Generator\n",
    "valid_generator = valid_datagen.flow_from_directory(\n",
    "    valid_dir,\n",
    "    target_size=img_size,\n",
    "    batch_size=batch_size,\n",
    "    class_mode='categorical'\n",
    ")\n",
    "\n",
    "# Laden der vortrainierten ResNet50-Modellbasis ohne den Klassifikationskopf\n",
    "base_model = ResNet50(weights='imagenet', include_top=False, input_shape=(224, 224, 3))\n",
    "\n",
    "# Einfügen eines eigenen Klassifikationskopfs\n",
    "model = models.Sequential()\n",
    "model.add(base_model)\n",
    "model.add(layers.GlobalAveragePooling2D())\n",
    "model.add(layers.Dense(256, activation='relu'))\n",
    "model.add(layers.Dropout(0.5))\n",
    "model.add(layers.Dense(8, activation='softmax'))\n",
    "\n",
    "# Einfrieren der Gewichte der vortrainierten Modellbasis\n",
    "base_model.trainable = False\n",
    "\n",
    "# Kompilieren des Modells\n",
    "model.compile(optimizer=tf.keras.optimizers.Adam(lr=0.001),\n",
    "              loss='categorical_crossentropy',\n",
    "              metrics=['accuracy'])\n",
    "\n",
    "# Anzahl der Epochen\n",
    "epochs = 1\n",
    "\n",
    "# Trainieren des Modells\n",
    "history = model.fit(\n",
    "    train_generator,\n",
    "    epochs=epochs,\n",
    "    validation_data=valid_generator\n",
    ")\n",
    "\n",
    "# Auswertung des Modells auf den Validierungsdaten\n",
    "eval_result = model.evaluate(valid_generator)\n",
    "print(\"Loss auf den Validierungsdaten:\", eval_result[0])\n",
    "print(\"Genauigkeit auf den Validierungsdaten:\", eval_result[1])\n",
    "\n",
    "# Beispiel: Vorhersagen mit dem trainierten Modell\n",
    "sample_images, sample_labels = next(iter(valid_generator))\n",
    "predictions = model.predict(sample_images)\n"
   ]
  },
  {
   "cell_type": "code",
   "execution_count": null,
   "outputs": [],
   "source": [],
   "metadata": {
    "collapsed": false
   }
  }
 ],
 "metadata": {
  "kernelspec": {
   "display_name": "Python 3",
   "language": "python",
   "name": "python3"
  },
  "language_info": {
   "codemirror_mode": {
    "name": "ipython",
    "version": 2
   },
   "file_extension": ".py",
   "mimetype": "text/x-python",
   "name": "python",
   "nbconvert_exporter": "python",
   "pygments_lexer": "ipython2",
   "version": "2.7.6"
  }
 },
 "nbformat": 4,
 "nbformat_minor": 0
}
