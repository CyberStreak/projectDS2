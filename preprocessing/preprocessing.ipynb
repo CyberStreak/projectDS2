{
 "cells": [
  {
   "cell_type": "code",
   "execution_count": 10,
   "id": "initial_id",
   "metadata": {
    "collapsed": true
   },
   "outputs": [],
   "source": [
    "import numpy as np\n",
    "import matplotlib.pyplot as plt\n",
    "import cv2\n",
    "\n",
    "# Bild lesen, einfach das zu Testende einkommentieren\n",
    "#image = cv2.imread(\"basophil.jpg\")\n",
    "image = cv2.imread(\"eosinophil.jpg\")\n",
    "# image = cv2.imread(\"erythroblast.jpg\")\n",
    "# image = cv2.imread(\"ig.jpg\")\n",
    "# image = cv2.imread(\"lymphocyte.jpg\")\n",
    "# image = cv2.imread(\"monocyte.jpg\")\n",
    "# image = cv2.imread(\"neutrophil.jpg\")\n",
    "# image = cv2.imread(\"platelet.jpg\")\n",
    "\n",
    "# OPTIONAL: Einfaches Cropping\n",
    "image = image [110:250, 110:250]\n",
    "\n",
    "# Konvertiere zu Grauskala Bild\n",
    "gray = cv2.cvtColor(image, cv2.COLOR_BGR2GRAY)\n",
    "\n",
    "# Glätten: Median Filter\n",
    "blurM = cv2.medianBlur(gray, 5)\n",
    "\n",
    "# Glätten: Gaussfilter \n",
    "blurG = cv2.GaussianBlur(gray, (9, 9), 0)\n",
    "\n",
    "# Histogramm Anpassung \n",
    "histoNorm = cv2.equalizeHist(gray)\n",
    "\n",
    "# CLAHE Objekt erstellen (Contrast Limited Adaptive Histogram Equalization)\n",
    "clahe = cv2.createCLAHE(clipLimit = 2.0, tileGridSize=(8, 8))\n",
    "claheNorm = clahe.apply(gray)\n",
    "\n",
    "# Kontraststreckung\n",
    "# Funktion mappt jeden Intensitätsgrad zum Ausgangs intensitätsgrad\n",
    "def pixelVal(pix, r1, s1, r2, s2):\n",
    "\tif 0 <= pix and pix <= r1:\n",
    "\t\treturn (s1 / r1) * pix\n",
    "\telif r1 < pix and pix <= r2:\n",
    "\t\treturn ((s2 - s1) / (r2 - r1)) * (pix - r1) + s1\n",
    "\telse:\n",
    "\t\treturn ((255 - s2) / (255 - r2)) * (pix - r2) + s2\n",
    "\t\n",
    "# Parameter definieren\n",
    "\n",
    "r1 = 70\n",
    "s1 = 0\n",
    "r2 = 200\n",
    "s2 = 255\n",
    "\n",
    "# Vektorisieren: Funktion auf jeden Wert im Numpy array anwenden\n",
    "pixelVal_vec = np.vectorize(pixelVal)\n",
    "\n",
    "# Konstrast streckung anwenden\n",
    "contrast_stretched = pixelVal_vec(gray, r1, s1, r2, s2)\n",
    "contrast_stretched_blurM = pixelVal_vec(blurM, r1, s1, r2, s2)\n",
    "plt.imshow(contrast_stretched_blurM)\n",
    "plt.show()\n",
    "\n",
    "# Folgende Zeile schreibt das Bild optional noch in die Ordnerstruktur im GitLab/ Lokal\n",
    "# cv2.imwrite('Final_Output_colour.png', contrast_stretched_blurM)\n",
    "\n",
    "# Kantendetektierung mit \"canny edge detector\"\n",
    "edge = cv2.Canny(gray, 100, 200)\n",
    "\n",
    "edgeG = cv2.Canny(blurG, 100, 200)\n",
    "\n",
    "edgeM = cv2.Canny(blurM, 100, 200)\n",
    "\n",
    "# Folgende Zeile schreibt das Bild optional noch in die Ordnerstruktur im GitLab/ Lokal\n",
    "# cv2.imwrite('Final_Output.png', edgeM)\n",
    "\n",
    "\n",
    "# Bilder anzeigen\n",
    "titles = ['Original img','gray','blurM','blurG','HistEq','Contrast Limited Adaptive Histogram Equalization','contrast_stretched','contrast_stretched_blurM','canny edge detector','cannyBlurG','cannyBlurM']\n",
    "images = [image,gray,blurM,blurG, histoNorm,claheNorm ,contrast_stretched,contrast_stretched_blurM,edge,edgeG,edgeM ]\n",
    "for i in range(len(titles)):\n",
    "    plt.subplot(4,3, i+1),plt.imshow(images[i])\n",
    "    plt.title(titles[i], fontsize=6)\n",
    "    plt.xticks([]),plt.yticks([])\n",
    "\n",
    "plt.show()\n",
    "\n",
    "## CannyBlurG scheint das Ziel am Besten herauszustellen - ABER: Ist es auch das Beste zum Trainieren der Modelle??? \n",
    "plt.imshow(edgeG)\n",
    "plt.show()"
   ]
  },
  {
   "cell_type": "code",
   "execution_count": 9,
   "outputs": [],
   "source": [],
   "metadata": {
    "collapsed": false,
    "ExecuteTime": {
     "end_time": "2023-10-31T07:50:59.580845300Z",
     "start_time": "2023-10-31T07:50:59.558930Z"
    }
   },
   "id": "891712e9a60f64dc"
  },
  {
   "cell_type": "code",
   "execution_count": null,
   "outputs": [],
   "source": [],
   "metadata": {
    "collapsed": false
   },
   "id": "2f55b9ae5258034a"
  }
 ],
 "metadata": {
  "kernelspec": {
   "display_name": "Python 3",
   "language": "python",
   "name": "python3"
  },
  "language_info": {
   "codemirror_mode": {
    "name": "ipython",
    "version": 2
   },
   "file_extension": ".py",
   "mimetype": "text/x-python",
   "name": "python",
   "nbconvert_exporter": "python",
   "pygments_lexer": "ipython2",
   "version": "2.7.6"
  }
 },
 "nbformat": 4,
 "nbformat_minor": 5
}
