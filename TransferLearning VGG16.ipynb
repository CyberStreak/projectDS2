{
 "cells": [
  {
   "cell_type": "code",
   "execution_count": null,
   "metadata": {
    "collapsed": true,
    "id": "GA-UECG7MqpR",
    "is_executing": true
   },
   "outputs": [],
   "source": [
    "import numpy as np\n",
    "import tensorflow as tf\n",
    "from tensorflow import keras\n",
    "from keras.applications import VGG16\n",
    "from keras.models import Sequential\n",
    "from keras.layers import Dense, Flatten, Input, Dropout\n",
    "import matplotlib.pyplot as plt\n",
    "import matplotlib.image as mpimg\n",
    "import seaborn as sns"
   ]
  },
  {
   "cell_type": "code",
   "execution_count": 4,
   "outputs": [
    {
     "name": "stdout",
     "output_type": "stream",
     "text": [
      "Found 17092 files belonging to 8 classes.\n",
      "Using 3418 files for validation.\n"
     ]
    }
   ],
   "source": [
    "# Einlesen eines Bildes\n",
    "img = mpimg.imread('images/archive/bloodcells_dataset/basophil/BA_47.jpg')\n",
    "imgplot = plt.imshow(img)\n",
    "plt.show()\n",
    "\n",
    "# Daten einlesen\n",
    "image_size = (224, 224)\n",
    "batch_size = 50\n",
    "X_train = tf.keras.preprocessing.image_dataset_from_directory(\n",
    "    \"images/archive/bloodcells_dataset\",\n",
    "    validation_split=0.2,\n",
    "    subset=\"training\",\n",
    "    seed=1337,\n",
    "    image_size=image_size,\n",
    "    batch_size=batch_size,\n",
    "    label_mode=\"categorical\"\n",
    ")\n",
    "X_test = tf.keras.preprocessing.image_dataset_from_directory(\n",
    "    \"images/archive/bloodcells_dataset\",\n",
    "    validation_split=0.2,\n",
    "    subset=\"validation\",\n",
    "    seed=1337,\n",
    "    image_size=image_size,\n",
    "    batch_size=batch_size,\n",
    "    label_mode=\"categorical\"\n",
    ")"
   ],
   "metadata": {
    "colab": {
     "base_uri": "https://localhost:8080/",
     "height": 503
    },
    "id": "Ok746omDMqpU",
    "outputId": "c1c7024e-6152-4ffa-da6d-db15989622dc"
   }
  },
  {
   "cell_type": "code",
   "execution_count": 5,
   "outputs": [
    {
     "name": "stdout",
     "output_type": "stream",
     "text": [
      "Model: \"sequential\"\n",
      "_________________________________________________________________\n",
      " Layer (type)                Output Shape              Param #   \n",
      "=================================================================\n",
      " random_flip (RandomFlip)    (None, 224, 224, 3)       0         \n",
      "                                                                 \n",
      " random_rotation (RandomRot  (None, 224, 224, 3)       0         \n",
      " ation)                                                          \n",
      "                                                                 \n",
      " rescaling (Rescaling)       (None, 224, 224, 3)       0         \n",
      "                                                                 \n",
      " vgg16 (Functional)          (None, 7, 7, 512)         14714688  \n",
      "                                                                 \n",
      " flatten (Flatten)           (None, 25088)             0         \n",
      "                                                                 \n",
      " dense (Dense)               (None, 1024)              25691136  \n",
      "                                                                 \n",
      " dense_1 (Dense)             (None, 512)               524800    \n",
      "                                                                 \n",
      " dense_2 (Dense)             (None, 8)                 4104      \n",
      "                                                                 \n",
      "=================================================================\n",
      "Total params: 40934728 (156.15 MB)\n",
      "Trainable params: 26220040 (100.02 MB)\n",
      "Non-trainable params: 14714688 (56.13 MB)\n",
      "_________________________________________________________________\n"
     ]
    }
   ],
   "source": [
    "# Daten vorbereiten\n",
    "train_ds = X_train.prefetch(buffer_size=tf.data.AUTOTUNE)\n",
    "val_ds = X_test.prefetch(buffer_size=tf.data.AUTOTUNE)\n",
    "\n",
    "\n",
    "# Die Gewichte des ResNet50 freezen\n",
    "vgg16 = VGG16(include_top=False, input_shape=(224, 224, 3))\n",
    "vgg16.trainable = False\n",
    "\n",
    "# Transfer Learning Model aufbauen\n",
    "model = Sequential()\n",
    "model.add(Input(shape=(224, 224, 3)))\n",
    "model.add(keras.layers.experimental.preprocessing.RandomFlip(\"horizontal_and_vertical\"))\n",
    "model.add(keras.layers.experimental.preprocessing.RandomRotation(0.1))\n",
    "model.add(keras.layers.experimental.preprocessing.Rescaling(1.0 / 255) )\n",
    "model.add(vgg16)\n",
    "\n",
    "# Eigener Decision Bereich\n",
    "model.add(Flatten())\n",
    "model.add(Dense(1024, activation=\"relu\"))\n",
    "#model.add(Dropout(0.3))  # Dropout für Regularisierung\n",
    "model.add(Dense(512, activation=\"relu\"))\n",
    "#model.add(Dropout(0.3))\n",
    "model.add(Dense(8, activation='softmax'))\n",
    "\n",
    "# Modell kompilieren\n",
    "model.compile(optimizer=tf.keras.optimizers.Adam(learning_rate=0.001),\n",
    "              loss=\"categorical_crossentropy\", metrics=[\"accuracy\"])\n",
    "\n",
    "# Zusammenfassung des Modells anzeigen\n",
    "model.summary()"
   ],
   "metadata": {
    "colab": {
     "base_uri": "https://localhost:8080/"
    },
    "id": "YmOHU5FEMqpW",
    "outputId": "3761700c-f31a-4b29-e41b-b02f0f77052e",
    "ExecuteTime": {
     "end_time": "2023-11-16T20:53:03.423794Z",
     "start_time": "2023-11-16T20:53:00.945745Z"
    }
   }
  },
  {
   "cell_type": "code",
   "execution_count": null,
   "outputs": [
    {
     "name": "stdout",
     "output_type": "stream",
     "text": [
      "Epoch 1/15\n",
      "  2/100 [..............................] - ETA: 34:47 - loss: 4.6202 - accuracy: 0.1700"
     ]
    }
   ],
   "source": [
    "# Frühes Stoppen\n",
    "fruehes_stoppen = keras.callbacks.EarlyStopping(patience=5, restore_best_weights=True, monitor=\"val_accuracy\", min_delta=0.005)\n",
    "\n",
    "# Modell trainieren\n",
    "history1 = model.fit(train_ds.take(100), epochs=15, batch_size=50, validation_data=val_ds, callbacks=[fruehes_stoppen])\n",
    "\n",
    "\n",
    "history2 = model.fit(train_ds.take(100), epochs=15, batch_size=50, validation_data=val_ds, callbacks=[fruehes_stoppen])\n"
   ],
   "metadata": {
    "colab": {
     "base_uri": "https://localhost:8080/"
    },
    "id": "NbSaWM36MqpX",
    "outputId": "bba227b2-4596-4d49-adf4-81e2f6ad63d1",
    "is_executing": true,
    "ExecuteTime": {
     "start_time": "2023-11-16T20:53:03.412562Z"
    }
   }
  },
  {
   "cell_type": "code",
   "execution_count": null,
   "outputs": [],
   "source": [
    "# Historien kombinieren\n",
    "combined_history = {\n",
    "    'accuracy': history1.history['accuracy'] + history2.history['accuracy'],\n",
    "    'loss': history1.history['loss'] + history2.history['loss'],\n",
    "    'val_accuracy': history1.history['val_accuracy'] + history2.history['val_accuracy'],\n",
    "    'val_loss': history1.history['val_loss'] + history2.history['val_loss'],\n",
    "}\n",
    "\n",
    "# Kombinierte Historie plotten\n",
    "x = range(0, len(combined_history['accuracy']))\n",
    "plt.figure(figsize=(12, 7))\n",
    "sns.lineplot(x=x, y=combined_history['accuracy'], label='Genauigkeit')\n",
    "sns.lineplot(x=x, y=combined_history['loss'], label='Verlust')\n",
    "sns.lineplot(x=x, y=combined_history['val_loss'], label='Validierungsverlust')\n",
    "sns.lineplot(x=x, y=combined_history['val_accuracy'], label='Validierungsgenauigkeit')\n",
    "plt.xlabel('Epochen')\n",
    "plt.ylabel('Genauigkeit / Verlust')\n",
    "plt.title('CNN Leistungshistorie')\n",
    "plt.ylim(0, 1)\n",
    "plt.show()\n",
    "\n",
    "# Evaluation auf dem Validierungsdatensatz\n",
    "model.evaluate(val_ds)"
   ],
   "metadata": {
    "id": "L3mZFcd3MqpY",
    "outputId": "75f1a4c9-258e-4de7-ae50-95c6b0d3214a",
    "colab": {
     "base_uri": "https://localhost:8080/",
     "height": 675
    },
    "is_executing": true
   }
  },
  {
   "cell_type": "code",
   "execution_count": null,
   "outputs": [],
   "source": [
    "# Modell speichern\n",
    "model.save(\"transfer_learning_resnet.h5\")"
   ],
   "metadata": {
    "id": "pey8p7BjMqpZ",
    "outputId": "48da1627-c8cd-4132-8d87-6a2227488c69",
    "colab": {
     "base_uri": "https://localhost:8080/"
    },
    "is_executing": true
   }
  },
  {
   "cell_type": "code",
   "execution_count": null,
   "outputs": [],
   "source": [
    "# Jetzt Produktion\n",
    "from keras.models import load_model\n",
    "model_loaded = load_model('transfer_learning_resnet.h5')\n",
    "\n",
    "# Beispielvorhersagen\n",
    "img = keras.preprocessing.image.load_img(\"images/archive/bloodcells_dataset/basophil/BA_47.jpg\", target_size=image_size)\n",
    "img_array = keras.preprocessing.image.img_to_array(img)\n",
    "img_array = tf.expand_dims(img_array, 0)\n",
    "predict = model_loaded.predict(img_array)\n",
    "print(predict)"
   ],
   "metadata": {
    "id": "69oiOAuxMqpa",
    "outputId": "3f38f8e6-4972-4856-a740-34c4579d39a9",
    "colab": {
     "base_uri": "https://localhost:8080/"
    },
    "is_executing": true
   }
  },
  {
   "cell_type": "code",
   "execution_count": null,
   "outputs": [],
   "source": [],
   "metadata": {
    "id": "9IUVC8CxMqpc",
    "is_executing": true
   }
  }
 ],
 "metadata": {
  "kernelspec": {
   "name": "python3",
   "language": "python",
   "display_name": "Python 3 (ipykernel)"
  },
  "language_info": {
   "codemirror_mode": {
    "name": "ipython",
    "version": 2
   },
   "file_extension": ".py",
   "mimetype": "text/x-python",
   "name": "python",
   "nbconvert_exporter": "python",
   "pygments_lexer": "ipython2",
   "version": "2.7.6"
  },
  "colab": {
   "provenance": [],
   "gpuType": "T4"
  },
  "accelerator": "GPU"
 },
 "nbformat": 4,
 "nbformat_minor": 0
}
